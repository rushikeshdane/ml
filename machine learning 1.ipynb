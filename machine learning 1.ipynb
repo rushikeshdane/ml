{
 "cells": [
  {
   "cell_type": "markdown",
   "id": "40e3bf81",
   "metadata": {},
   "source": [
    "# name: rushikesh dane"
   ]
  },
  {
   "cell_type": "markdown",
   "id": "02a3cf18",
   "metadata": {},
   "source": [
    "# 1. What does one mean by the term &quot;machine learning&quot;?\n",
    "\n",
    "\n"
   ]
  },
  {
   "cell_type": "markdown",
   "id": "c0cc5429",
   "metadata": {},
   "source": [
    "manchine learning is machine is trying to understand patterns in given  data\n",
    "\n",
    "Machine Learning is the science (and art) of programming computers so they can learn from data."
   ]
  },
  {
   "cell_type": "markdown",
   "id": "742ad61c",
   "metadata": {},
   "source": [
    "# 2.Can you think of 4 distinct types of issues where it shines?\n",
    "\n",
    "\n"
   ]
  },
  {
   "cell_type": "markdown",
   "id": "5e32316a",
   "metadata": {},
   "source": [
    "• Problems for which existing solutions require a lot of hand-tuning or long lists of rules: one Machine Learning algorithm can often simplify code and perform better.\n",
    "\n",
    "• Complex problems for which there is no good solution at all using a traditional approach: the best Machine Learning techniques can find a solution.\n",
    "\n",
    "• Fluctuating environments: a Machine Learning system can adapt to new data.\n",
    "\n",
    "• Getting insights about complex problems and large amounts of data\n",
    "\n",
    "example: speech recognition , spam detection , recomondation systeam , prediction"
   ]
  },
  {
   "cell_type": "markdown",
   "id": "d043c150",
   "metadata": {},
   "source": [
    "# 3.What is a labeled training set, and how does it work?\n"
   ]
  },
  {
   "cell_type": "markdown",
   "id": "8f857849",
   "metadata": {},
   "source": [
    "labeled trainin set is the training set you feed to the alogorithem includes the desired solution .\n",
    "\n",
    "In supervised learning we use labeld training  set"
   ]
  },
  {
   "cell_type": "markdown",
   "id": "d9731f69",
   "metadata": {},
   "source": [
    "# 4.What are the two most important tasks that are supervised?\n",
    "\n"
   ]
  },
  {
   "cell_type": "markdown",
   "id": "eed03a02",
   "metadata": {},
   "source": [
    "1) classification\n",
    "2) regression"
   ]
  },
  {
   "cell_type": "markdown",
   "id": "4c638555",
   "metadata": {},
   "source": [
    "# 5.Can you think of four examples of unsupervised tasks?\n",
    "\n"
   ]
  },
  {
   "cell_type": "markdown",
   "id": "185600ce",
   "metadata": {},
   "source": [
    "• clustering\n",
    "\n",
    "• Anomaly detection and novelty detection\n",
    "\n",
    "• visualization and dimensionality reduction\n",
    "\n",
    "• association rule learning"
   ]
  },
  {
   "cell_type": "markdown",
   "id": "1c8750d0",
   "metadata": {},
   "source": [
    "# 6.State the machine learning model that would be best to make a robot walk through various unfamiliar terrains?\n",
    "\n"
   ]
  },
  {
   "cell_type": "markdown",
   "id": "5986b8cd",
   "metadata": {},
   "source": [
    "Reinforcement rearning is the machine learning algorithm that should be used which will allow the robot to observe the environment, select and perform actions and decide the best strategy"
   ]
  },
  {
   "cell_type": "markdown",
   "id": "9575e311",
   "metadata": {},
   "source": [
    "# 7.Which algorithm will you use to divide your customers into different groups?\n",
    "\n"
   ]
  },
  {
   "cell_type": "markdown",
   "id": "f6770e89",
   "metadata": {},
   "source": [
    "clustring ,dividing customor into diffrent category"
   ]
  },
  {
   "cell_type": "markdown",
   "id": "ad4f5754",
   "metadata": {},
   "source": [
    "# 8.Will you consider the problem of spam detection to be a supervised or unsupervised learning problem?\n",
    "\n"
   ]
  },
  {
   "cell_type": "markdown",
   "id": "8fd71023",
   "metadata": {},
   "source": [
    "supervised learning"
   ]
  },
  {
   "cell_type": "markdown",
   "id": "a29e463f",
   "metadata": {},
   "source": [
    "# 9.What is the concept of an online learning system?\n",
    "\n"
   ]
  },
  {
   "cell_type": "markdown",
   "id": "f4902e1a",
   "metadata": {},
   "source": [
    "in online learning you train the system incrementally by feeding it data instance sequentially or in small groups called mini \n",
    "batches "
   ]
  },
  {
   "cell_type": "markdown",
   "id": "84fb6d56",
   "metadata": {},
   "source": [
    "# 10.What is out-of-core learning, and how does it differ from core learning?\n",
    "\n"
   ]
  },
  {
   "cell_type": "markdown",
   "id": "266c638b",
   "metadata": {},
   "source": [
    "online learning algorithms that used to train systems incrementally on huge datasets that cannot fit in one machines main memory is called out of core learning."
   ]
  },
  {
   "cell_type": "markdown",
   "id": "415ace1d",
   "metadata": {},
   "source": [
    "# 11.What kind of learning algorithm makes predictions using a similarity measure?\n",
    "\n"
   ]
  },
  {
   "cell_type": "markdown",
   "id": "7e16ed4f",
   "metadata": {},
   "source": [
    "instace based learning "
   ]
  },
  {
   "cell_type": "markdown",
   "id": "602f6ca8",
   "metadata": {},
   "source": [
    "# 12.What&#39;s the difference between a model parameter and a hyperparameter in a learning algorithm?\n",
    "\n"
   ]
  },
  {
   "cell_type": "markdown",
   "id": "b374687a",
   "metadata": {},
   "source": [
    "model parameter : it is parameter of model which  is used in process of training data to  get best fitted model\n",
    "    \n",
    "hyperparameter : it is parameter of learning alogrithem and it is set prior to model training process and it remains constant\n",
    "    throught the model training process"
   ]
  },
  {
   "cell_type": "markdown",
   "id": "f24d7781",
   "metadata": {},
   "source": [
    "# 13.What are the criteria that model-based learning algorithms look for? What is the most popular\n",
    "method they use to achieve success? What method do they use to make predictions?\n",
    "\n"
   ]
  },
  {
   "cell_type": "markdown",
   "id": "e9aa1ac8",
   "metadata": {},
   "source": [
    "step 1 : study  the data \n",
    "    \n",
    "step2 : model selection\n",
    "    \n",
    "step3: model training and finding model parameters that minimize cost function to obtain the best fit model\n",
    "    \n",
    "step 4 : apply the model to make prdictions on new cases"
   ]
  },
  {
   "cell_type": "markdown",
   "id": "6019e461",
   "metadata": {},
   "source": [
    "# 14.Can you name four of the most important Machine Learning challenges?\n",
    "\n"
   ]
  },
  {
   "cell_type": "markdown",
   "id": "09dc080e",
   "metadata": {},
   "source": [
    "1) poor quality data\n",
    "\n",
    "2) irrelevant features\n",
    "\n",
    "3) nonrepresentative traing data\n",
    "\n",
    "4) insuffcient training"
   ]
  },
  {
   "cell_type": "markdown",
   "id": "49ae1a58",
   "metadata": {},
   "source": [
    "# 15.What happens if the model performs well on the training data but fails to generalize the results to new situations? Can you think of three different options?\n",
    "\n"
   ]
  },
  {
   "cell_type": "markdown",
   "id": "a0f342d1",
   "metadata": {},
   "source": [
    " it is overfitting the data\n",
    "\n",
    "1) need to clean more data ,removing outliers in data and fixing some errors in data\n",
    "\n",
    "2)  gathering more training data\n",
    "\n",
    "3)using simpler ML model instead of using complex machine learning model and reducing number of features\n"
   ]
  },
  {
   "cell_type": "markdown",
   "id": "fc953d02",
   "metadata": {},
   "source": [
    "# 16.What exactly is a test set, and why would you need one?\n",
    "\n"
   ]
  },
  {
   "cell_type": "markdown",
   "id": "8d68ae65",
   "metadata": {},
   "source": [
    "test set is the data on which the trained model is tested or evaluated.\n",
    "\n",
    "by evaluating the model on test set we get an estimate of the error rate on new cases also known as generalization error"
   ]
  },
  {
   "cell_type": "markdown",
   "id": "7b19decf",
   "metadata": {},
   "source": [
    "# 17.What is a validation set&#39;s purpose?\n",
    "\n"
   ]
  },
  {
   "cell_type": "markdown",
   "id": "4238c3f1",
   "metadata": {},
   "source": [
    "The purpose of a validation set is to hold out a part of the training set to evaluate several candidate models and select the best model in the end."
   ]
  },
  {
   "cell_type": "markdown",
   "id": "d045ea8d",
   "metadata": {},
   "source": [
    "# 18.What precisely is the train-dev kit, when will you need it, how do you put it to use?\n",
    "\n"
   ]
  },
  {
   "cell_type": "markdown",
   "id": "6e9ee81e",
   "metadata": {},
   "source": [
    "trian set : it is set of data that we use for model training \n",
    "\n",
    "dev set : it is data for testing best machine learning model\n",
    "\n",
    "we need this kit to choose best ml model for given data\n",
    "e.g : suppose we are having 1 million rows in given data , choosing 10000 rows for dev set is good then we can train bunch of \n",
    "ml model on training dataset and dev set will choose the most accurate out of it."
   ]
  },
  {
   "cell_type": "markdown",
   "id": "8adb55dd",
   "metadata": {},
   "source": [
    "# 19.What could go wrong if you use the test set to tune hyperparameters"
   ]
  },
  {
   "cell_type": "markdown",
   "id": "68c41cd2",
   "metadata": {},
   "source": [
    "By tuning hyperparameters using the test set we adapted the model and hyperparameters to produce the best model for that particular set. \n",
    "This means that the model is unlikely to perform as well on new data."
   ]
  },
  {
   "cell_type": "code",
   "execution_count": null,
   "id": "24543448",
   "metadata": {},
   "outputs": [],
   "source": []
  }
 ],
 "metadata": {
  "kernelspec": {
   "display_name": "Python 3",
   "language": "python",
   "name": "python3"
  },
  "language_info": {
   "codemirror_mode": {
    "name": "ipython",
    "version": 3
   },
   "file_extension": ".py",
   "mimetype": "text/x-python",
   "name": "python",
   "nbconvert_exporter": "python",
   "pygments_lexer": "ipython3",
   "version": "3.8.8"
  }
 },
 "nbformat": 4,
 "nbformat_minor": 5
}
